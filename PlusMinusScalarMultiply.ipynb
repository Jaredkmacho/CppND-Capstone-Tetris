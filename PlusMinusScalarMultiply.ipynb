{
  "nbformat": 4,
  "nbformat_minor": 0,
  "metadata": {
    "colab": {
      "name": "PlusMinusScalarMultiply.ipynb",
      "provenance": [],
      "collapsed_sections": [],
      "authorship_tag": "ABX9TyPuXavGNhsJvDiGs7j4lxND",
      "include_colab_link": true
    },
    "kernelspec": {
      "name": "python3",
      "display_name": "Python 3"
    },
    "language_info": {
      "name": "python"
    }
  },
  "cells": [
    {
      "cell_type": "markdown",
      "metadata": {
        "id": "view-in-github",
        "colab_type": "text"
      },
      "source": [
        "<a href=\"https://colab.research.google.com/github/Jaredkmacho/CppND-Capstone-Tetris/blob/main/PlusMinusScalarMultiply.ipynb\" target=\"_parent\"><img src=\"https://colab.research.google.com/assets/colab-badge.svg\" alt=\"Open In Colab\"/></a>"
      ]
    },
    {
      "cell_type": "code",
      "metadata": {
        "colab": {
          "base_uri": "https://localhost:8080/"
        },
        "id": "EQySVPfeP95p",
        "outputId": "019df275-4621-485a-a1ed-a0edf4ec33fa"
      },
      "source": [
        "%%writefile linear_algebra.h\n",
        "\n",
        "#ifndef LINEAR_ALGEBRA_H\n",
        "#define LINEAR_ALGEBRA_H\n",
        "\n",
        "#include <iostream>\n",
        "#include <vector>\n",
        "\n",
        "class Vector {\n",
        "public:\n",
        "    Vector(double *coordinates, size_t len);\n",
        "    void print();\n",
        "    bool operator==(const Vector &other);\n",
        "    Vector& operator+=(const Vector &other);\n",
        "    Vector& operator-=(const Vector &other);\n",
        "    Vector& operator*=(const Vector &other);\n",
        "\n",
        "private:\n",
        "    std::vector<double> coordinates_;\n",
        "    size_t dimension_;\n",
        "};\n",
        "\n",
        "#endif /* LINEAR_ALGEBRA_H */"
      ],
      "execution_count": null,
      "outputs": [
        {
          "output_type": "stream",
          "name": "stdout",
          "text": [
            "Overwriting linear_algebra.h\n"
          ]
        }
      ]
    },
    {
      "cell_type": "code",
      "metadata": {
        "colab": {
          "base_uri": "https://localhost:8080/"
        },
        "id": "EJX9UCL0TR0d",
        "outputId": "9b852f97-60ef-42df-c22d-080141c5692b"
      },
      "source": [
        "%%writefile linear_algebra.cpp\n",
        "\n",
        "#include \"linear_algebra.h\"\n",
        "\n",
        "Vector::Vector(double *coordinates, size_t len) {\n",
        "    for(size_t i = 0; i < len; i++) {\n",
        "        coordinates_.emplace_back(coordinates[i]);\n",
        "    }\n",
        "    dimension_ = len;\n",
        "}\n",
        "\n",
        "void Vector::print() {\n",
        "    std::cout << \"Vector: [\";\n",
        "    std::cout.precision(4);\n",
        "    for(size_t i = 0; i < dimension_; i++) {\n",
        "        std::cout <<coordinates_[i] << ((i == dimension_ - 1) ? \"]\" : \",\");\n",
        "    }\n",
        "    std::cout << std::endl;\n",
        "}\n",
        "\n",
        "bool Vector::operator==(const Vector &other) {\n",
        "    return coordinates_ == other.coordinates_;\n",
        "}\n",
        "\n",
        "Vector& Vector::operator+=(const Vector &other) {\n",
        "    if(dimension_ == other.dimension_) {\n",
        "        for(size_t i = 0; i < dimension_; i++) {\n",
        "            coordinates_[i] += other.coordinates_[i];\n",
        "        }\n",
        "    return *this;\n",
        "    }\n",
        "}\n",
        "\n",
        "Vector& Vector::operator-=(const Vector &other) {\n",
        "    if(dimension_ == other.dimension_) {\n",
        "        for(size_t i = 0; i < dimension_; i++) {\n",
        "            coordinates_[i] = coordinates_[i] - other.coordinates_[i];\n",
        "        }\n",
        "    return *this;\n",
        "    }\n",
        "}\n",
        "\n",
        "Vector& Vector::operator*=(const Vector &other) {\n",
        "    if(dimension_ == other.dimension_) {\n",
        "        for(size_t i = 0; i < dimension_; i++) {\n",
        "            coordinates_[i] *= other.coordinates_[i];\n",
        "        }\n",
        "    return *this;\n",
        "    }\n",
        "}"
      ],
      "execution_count": null,
      "outputs": [
        {
          "output_type": "stream",
          "name": "stdout",
          "text": [
            "Overwriting linear_algebra.cpp\n"
          ]
        }
      ]
    },
    {
      "cell_type": "code",
      "metadata": {
        "colab": {
          "base_uri": "https://localhost:8080/"
        },
        "id": "kjyfBlFAX59i",
        "outputId": "4daebdfe-d4e7-461b-92e5-fc8cdb9e0d0c"
      },
      "source": [
        "%%writefile main.cpp\n",
        "\n",
        "#include \"linear_algebra.h\"\n",
        "\n",
        "int main() {\n",
        "    // SUM\n",
        "    double coordinates1[] = {8.218,-9.341};\n",
        "    double coordinates2[] = {-1.129,2.111};\n",
        "\n",
        "    //MIN\n",
        "    double coordinates3[] = {7.119,8.215};\n",
        "    double coordinates4[] = {-8.223,0.878};\n",
        "\n",
        "    //MULT\n",
        "    double coordinates5[] = {7.41,7.41,7.41};\n",
        "    double coordinates6[] = {1.671,-1.012,-0.318};\n",
        "\n",
        "    Vector vector1(coordinates1, sizeof(coordinates1) / sizeof(double));\n",
        "    Vector vector2(coordinates2, sizeof(coordinates2) / sizeof(double));\n",
        "\n",
        "    Vector vector3(coordinates3, sizeof(coordinates3) / sizeof(double));\n",
        "    Vector vector4(coordinates4, sizeof(coordinates4) / sizeof(double));\n",
        "\n",
        "    Vector vector5(coordinates5, sizeof(coordinates5) / sizeof(double));\n",
        "    Vector vector6(coordinates6, sizeof(coordinates6) / sizeof(double));\n",
        "\n",
        "    std::cout << \"SUM pair\" << std::endl;\n",
        "    vector1.print();\n",
        "    vector2.print();\n",
        "\n",
        "    std::cout << \"MIN pair\" << std::endl;\n",
        "    vector3.print();\n",
        "    vector4.print();\n",
        "\n",
        "    std::cout << \"MULT pair\" << std::endl;\n",
        "    vector5.print();\n",
        "    vector6.print();\n",
        "\n",
        "    if(vector1 == vector2) std::cout << \"Equals\" << std::endl;\n",
        "    else std::cout << \"Not Equals\" << std::endl;\n",
        "\n",
        "    std::cout << \"Vector sum result: \";\n",
        "    vector1 += vector2;\n",
        "    vector1.print();\n",
        "\n",
        "    std::cout << \"Vector substraction result: \";\n",
        "    vector3 -= vector4;\n",
        "    vector3.print();\n",
        "\n",
        "    std::cout << \"Vector multiply result: \";\n",
        "    vector5 *= vector6;\n",
        "    vector5.print();\n",
        "}"
      ],
      "execution_count": null,
      "outputs": [
        {
          "output_type": "stream",
          "name": "stdout",
          "text": [
            "Overwriting main.cpp\n"
          ]
        }
      ]
    },
    {
      "cell_type": "code",
      "metadata": {
        "id": "7tsUvrV9aKad"
      },
      "source": [
        "%%script bash\n",
        "g++ linear_algebra.cpp main.cpp -std=c++11 -o linal"
      ],
      "execution_count": null,
      "outputs": []
    },
    {
      "cell_type": "code",
      "metadata": {
        "colab": {
          "base_uri": "https://localhost:8080/"
        },
        "id": "6BEBJLHrd8jz",
        "outputId": "ac163d9f-e4ba-480a-939d-e063d2140acb"
      },
      "source": [
        "!./linal"
      ],
      "execution_count": null,
      "outputs": [
        {
          "output_type": "stream",
          "name": "stdout",
          "text": [
            "SUM pair\n",
            "Vector: [8.218,-9.341]\n",
            "Vector: [-1.129,2.111]\n",
            "MIN pair\n",
            "Vector: [7.119,8.215]\n",
            "Vector: [-8.223,0.878]\n",
            "MULT pair\n",
            "Vector: [7.41,7.41,7.41]\n",
            "Vector: [1.671,-1.012,-0.318]\n",
            "Not Equals\n",
            "Vector sum result: Vector: [7.089,-7.23]\n",
            "Vector substraction result: Vector: [15.34,7.337]\n",
            "Vector multiply result: Vector: [12.38,-7.499,-2.356]\n"
          ]
        }
      ]
    }
  ]
}